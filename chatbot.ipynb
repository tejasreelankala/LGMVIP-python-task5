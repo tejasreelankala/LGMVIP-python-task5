{
 "cells": [
  {
   "cell_type": "code",
   "execution_count": 1,
   "id": "71017d64",
   "metadata": {},
   "outputs": [
    {
     "name": "stdout",
     "output_type": "stream",
     "text": [
      "Welcome! Type 'bye' to exit.\n",
      "You: hi\n",
      "Bot: Hello! How can I assist you today?\n",
      "You: how are you\n",
      "Bot: I'm just a chatbot, but thanks for asking!\n",
      "You: who is the prime minister of india\n",
      "Bot: Narendra modi\n",
      "You: bye\n",
      "Goodbye! Have a great day!\n"
     ]
    }
   ],
   "source": [
    "def simple_chatbot(user_input):\n",
    "    # Define predefined rules and responses\n",
    "    rules = {\n",
    "        \"hi\": \"Hello! How can I assist you today?\",\n",
    "        \"how are you\": \"I'm just a chatbot, but thanks for asking!\",\n",
    "        \"who is the prime minister of india\": \"Narendra modi\",\n",
    "        \"bye\": \"Goodbye! Have a great day!\"\n",
    "    }\n",
    "    \n",
    "    # Convert user input to lowercase for case-insensitive matching\n",
    "    user_input = user_input.lower()\n",
    "    \n",
    "    # Check if user input matches any predefined rules\n",
    "    for rule, response in rules.items():\n",
    "        if rule in user_input:\n",
    "            return response\n",
    "    \n",
    "    # If no predefined rule matches, respond with a default message\n",
    "    return \"I'm sorry, I don't understand. Can you please rephrase or ask something else?\"\n",
    "\n",
    "# Main loop to interact with the chatbot\n",
    "print(\"Welcome! Type 'bye' to exit.\")\n",
    "while True:\n",
    "    user_input = input(\"You: \")\n",
    "    if user_input.lower() == 'bye':\n",
    "        print(simple_chatbot(user_input))\n",
    "        break\n",
    "    else:\n",
    "        print(\"Bot:\", simple_chatbot(user_input))\n"
   ]
  },
  {
   "cell_type": "code",
   "execution_count": null,
   "id": "dccddfda",
   "metadata": {},
   "outputs": [],
   "source": []
  },
  {
   "cell_type": "code",
   "execution_count": null,
   "id": "da38950d",
   "metadata": {},
   "outputs": [],
   "source": []
  }
 ],
 "metadata": {
  "kernelspec": {
   "display_name": "Python 3 (ipykernel)",
   "language": "python",
   "name": "python3"
  },
  "language_info": {
   "codemirror_mode": {
    "name": "ipython",
    "version": 3
   },
   "file_extension": ".py",
   "mimetype": "text/x-python",
   "name": "python",
   "nbconvert_exporter": "python",
   "pygments_lexer": "ipython3",
   "version": "3.11.5"
  }
 },
 "nbformat": 4,
 "nbformat_minor": 5
}
